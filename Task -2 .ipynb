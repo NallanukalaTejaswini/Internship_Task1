{
 "cells": [
  {
   "cell_type": "markdown",
   "metadata": {},
   "source": [
    "#### WAP to check the department with the roll number. \n",
    "- Rollnumber - AP19110010290,  AP19 would be same for all the students, the two digits next to it differ according to the department\n",
    "- 01- CSE , 11 - IT, 21- ECE, Else - doesnot belong to SRM"
   ]
  },
  {
   "cell_type": "code",
   "execution_count": null,
   "metadata": {},
   "outputs": [],
   "source": [
    "rollnumber=input(\"enter roll number: \")\n",
    "if rollnumber[4:].startswith('01'):\n",
    "    print(\"CSE department\")\n",
    "elif rollnumber[4:].startswith('11'):\n",
    "    print(\"IT department\")\n",
    "elif rollnumber[4:].startswith('21'):\n",
    "    print(\"ECE department\")\n",
    "else:\n",
    "    print(\"not belongs to SRM\")"
   ]
  }
 ],
 "metadata": {
  "kernelspec": {
   "display_name": "Python 3",
   "language": "python",
   "name": "python3"
  },
  "language_info": {
   "codemirror_mode": {
    "name": "ipython",
    "version": 3
   },
   "file_extension": ".py",
   "mimetype": "text/x-python",
   "name": "python",
   "nbconvert_exporter": "python",
   "pygments_lexer": "ipython3",
   "version": "3.7.3"
  }
 },
 "nbformat": 4,
 "nbformat_minor": 2
}
