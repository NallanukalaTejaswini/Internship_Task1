{
 "cells": [
  {
   "cell_type": "markdown",
   "metadata": {},
   "source": [
    "#### Write a program to check whether the user is eligible for vote or not"
   ]
  },
  {
   "cell_type": "code",
   "execution_count": 1,
   "metadata": {},
   "outputs": [
    {
     "name": "stdout",
     "output_type": "stream",
     "text": [
      "Enter age : 18\n",
      "You are ELIGIBLE to Vote\n"
     ]
    }
   ],
   "source": [
    "age = int(input(\"Enter age : \"))\n",
    "\n",
    "if age >= 18:\n",
    "    print(\"You are ELIGIBLE to Vote\")\n",
    "else:\n",
    "    print(\"You are NOT ELIGIBLE to Vote\")"
   ]
  },
  {
   "cell_type": "markdown",
   "metadata": {},
   "source": [
    "####  WAP to check whether the given number is positive or negative"
   ]
  },
  {
   "cell_type": "code",
   "execution_count": 2,
   "metadata": {},
   "outputs": [
    {
     "name": "stdout",
     "output_type": "stream",
     "text": [
      "Enter a number: 18\n",
      "Positive Number\n"
     ]
    }
   ],
   "source": [
    "number = float(input(\"Enter a number: \"))\n",
    "if number >= 0:\n",
    "    if number == 0:\n",
    "        print(\"Zero\")\n",
    "    else:\n",
    "        print(\"Positive Number\")\n",
    "else:\n",
    "    print(\"Negative Number\")"
   ]
  },
  {
   "cell_type": "markdown",
   "metadata": {},
   "source": [
    "#### WAP to check is the given number is even or odd if its even check whether it is divisible by 4 or not"
   ]
  },
  {
   "cell_type": "code",
   "execution_count": 13,
   "metadata": {},
   "outputs": [
    {
     "name": "stdout",
     "output_type": "stream",
     "text": [
      "Enter a number: 20\n",
      "Your Number is EVEN\n",
      "And DIVISIBLE by 4\n"
     ]
    }
   ],
   "source": [
    "number = float(input(\"Enter a number: \"))\n",
    "if number%2==0:\n",
    "    print(\"Your Number is EVEN\")\n",
    "    if number%4==0:\n",
    "        print(\"And DIVISIBLE by 4\")\n",
    "    else:\n",
    "        print(\"And NOT DIVISIBLE by 4\")\n",
    "else:\n",
    "    print(\"Your Number is ODD\")\n"
   ]
  },
  {
   "cell_type": "markdown",
   "metadata": {},
   "source": [
    "#### WAP to check the given year is leap year or not"
   ]
  },
  {
   "cell_type": "code",
   "execution_count": 4,
   "metadata": {},
   "outputs": [
    {
     "name": "stdout",
     "output_type": "stream",
     "text": [
      "Enter year to check:2021\n",
      "The year is not a leap year!\n"
     ]
    }
   ],
   "source": [
    "Year=int(input(\"Enter year to check:\"))\n",
    "if(Year%4==0 and Year%100!=0 or Year%400==0):\n",
    "    print(\"The year is a leap year!\")\n",
    "else:\n",
    "    print(\"The year is not a leap year!\")\n"
   ]
  },
  {
   "cell_type": "markdown",
   "metadata": {},
   "source": [
    "#### WAP to print student grade based on percentage"
   ]
  },
  {
   "cell_type": "code",
   "execution_count": 10,
   "metadata": {},
   "outputs": [
    {
     "name": "stdout",
     "output_type": "stream",
     "text": [
      " Please enter DSA Marks: 95\n",
      " Please enter DBMS Marks: 92\n",
      " Please enter Linear Algebra Marks: 90\n",
      " Please enter Economics Marks: 91\n",
      " Please enter FLAT Marks: 94\n",
      "Total Marks = 462.00\n",
      "Marks Percentage = 92.40\n",
      "Distinction\n"
     ]
    }
   ],
   "source": [
    "DSA = float(input(\" Please enter DSA Marks: \"))\n",
    "DBMS = float(input(\" Please enter DBMS Marks: \"))\n",
    "Linear_Algebra = float(input(\" Please enter Linear Algebra Marks: \"))\n",
    "Economics = float(input(\" Please enter Economics Marks: \"))\n",
    "FLAT = float(input(\" Please enter FLAT Marks: \"))\n",
    "\n",
    "total = DSA + DBMS + Linear_Algebra + Economics + FLAT\n",
    "Percentage = (total / 500) * 100\n",
    "\n",
    "print(\"Total Marks = %.2f\"  %total)\n",
    "print(\"Marks Percentage = %.2f\"  %Percentage)\n",
    "\n",
    "if(Percentage >= 80):\n",
    "    print(\"Distinction\")\n",
    "elif(Percentage >= 40):\n",
    "    print(\"Pass\")\n",
    "else:\n",
    "    print(\"Fail\")"
   ]
  },
  {
   "cell_type": "code",
   "execution_count": null,
   "metadata": {},
   "outputs": [],
   "source": []
  }
 ],
 "metadata": {
  "kernelspec": {
   "display_name": "Python 3",
   "language": "python",
   "name": "python3"
  },
  "language_info": {
   "codemirror_mode": {
    "name": "ipython",
    "version": 3
   },
   "file_extension": ".py",
   "mimetype": "text/x-python",
   "name": "python",
   "nbconvert_exporter": "python",
   "pygments_lexer": "ipython3",
   "version": "3.7.3"
  }
 },
 "nbformat": 4,
 "nbformat_minor": 2
}
