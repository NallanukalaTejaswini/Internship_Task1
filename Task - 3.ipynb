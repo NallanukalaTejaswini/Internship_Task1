{
 "cells": [
  {
   "cell_type": "markdown",
   "metadata": {},
   "source": [
    "### Task\n",
    "- take input from the user \n",
    "- check the length of the string , find whether it is even or odd.\n",
    "- Find the middle characters of the string according to it's length."
   ]
  },
  {
   "cell_type": "code",
   "execution_count": null,
   "metadata": {},
   "outputs": [],
   "source": [
    "number = input(\"Enter a string \")\n",
    "if  len(number)% 2== 0:\n",
    "    print(\"Your String length is EVEN, Middle characters  are : \", number[(len(number)//2)-1], number[len(number)//2])\n",
    "else:\n",
    "    print(\"Your String length is  ODD, Middle character is - \" , number[len(number)//2])\n"
   ]
  }
 ],
 "metadata": {
  "kernelspec": {
   "display_name": "Python 3",
   "language": "python",
   "name": "python3"
  },
  "language_info": {
   "codemirror_mode": {
    "name": "ipython",
    "version": 3
   },
   "file_extension": ".py",
   "mimetype": "text/x-python",
   "name": "python",
   "nbconvert_exporter": "python",
   "pygments_lexer": "ipython3",
   "version": "3.7.3"
  }
 },
 "nbformat": 4,
 "nbformat_minor": 2
}
